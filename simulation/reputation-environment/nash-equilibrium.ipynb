{
 "cells": [
  {
   "cell_type": "code",
   "execution_count": 1,
   "metadata": {},
   "outputs": [],
   "source": [
    "import nashpy as nash\n",
    "import numpy as np"
   ]
  },
  {
   "cell_type": "code",
   "execution_count": 8,
   "metadata": {},
   "outputs": [],
   "source": [
    "issuer = np.array(\n",
    "    [\n",
    "        [-100, -100, 50, 50], \n",
    "        [-50, -50, 100, 100], \n",
    "        [0, 0, 10, 10], \n",
    "        [0, 0, 20, 20]\n",
    "    ], \n",
    "dtype=np.int16)\n",
    "\n",
    "rater = np.array(\n",
    "    [\n",
    "        [120, -100, 100, -50],\n",
    "        [120, -50, 100, -100],\n",
    "        [120, -100, 100, -50],\n",
    "        [120, -50, 100, -100]\n",
    "    ],\n",
    "dtype=np.int16)\n",
    "\n",
    "rating_game = nash.Game(issuer, rater)"
   ]
  },
  {
   "cell_type": "code",
   "execution_count": 9,
   "metadata": {},
   "outputs": [
    {
     "data": {
      "text/plain": [
       "Bi matrix game with payoff matrices:\n",
       "\n",
       "Row player:\n",
       "[[-100 -100   50   50]\n",
       " [ -50  -50  100  100]\n",
       " [   0    0   10   10]\n",
       " [   0    0   20   20]]\n",
       "\n",
       "Column player:\n",
       "[[ 120 -100  100  -50]\n",
       " [ 120  -50  100 -100]\n",
       " [ 120 -100  100  -50]\n",
       " [ 120  -50  100 -100]]"
      ]
     },
     "execution_count": 9,
     "metadata": {},
     "output_type": "execute_result"
    }
   ],
   "source": [
    "rating_game"
   ]
  },
  {
   "cell_type": "code",
   "execution_count": 10,
   "metadata": {},
   "outputs": [],
   "source": [
    "eqs = rating_game.support_enumeration()"
   ]
  },
  {
   "cell_type": "code",
   "execution_count": 11,
   "metadata": {},
   "outputs": [
    {
     "name": "stderr",
     "output_type": "stream",
     "text": [
      "/Users/chrible/work/projects/conference-simulation/simulation/.venv/lib/python3.8/site-packages/nashpy/algorithms/support_enumeration.py:260: RuntimeWarning: \n",
      "An even number of (2) equilibria was returned. This\n",
      "indicates that the game is degenerate. Consider using another algorithm\n",
      "to investigate.\n",
      "                  \n",
      "  warnings.warn(warning, RuntimeWarning)\n"
     ]
    },
    {
     "data": {
      "text/plain": [
       "[(array([0., 0., 1., 0.]), array([1., 0., 0., 0.])),\n",
       " (array([0., 0., 0., 1.]), array([1., 0., 0., 0.]))]"
      ]
     },
     "execution_count": 11,
     "metadata": {},
     "output_type": "execute_result"
    }
   ],
   "source": [
    "list(eqs)"
   ]
  },
  {
   "cell_type": "code",
   "execution_count": null,
   "metadata": {},
   "outputs": [],
   "source": []
  }
 ],
 "metadata": {
  "kernelspec": {
   "display_name": ".venv",
   "language": "python",
   "name": "python3"
  },
  "language_info": {
   "codemirror_mode": {
    "name": "ipython",
    "version": 3
   },
   "file_extension": ".py",
   "mimetype": "text/x-python",
   "name": "python",
   "nbconvert_exporter": "python",
   "pygments_lexer": "ipython3",
   "version": "3.8.13"
  }
 },
 "nbformat": 4,
 "nbformat_minor": 2
}
