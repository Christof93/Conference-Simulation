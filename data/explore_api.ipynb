{
 "cells": [
  {
   "cell_type": "code",
   "execution_count": null,
   "metadata": {},
   "outputs": [],
   "source": [
    "import os\n",
    "import json\n",
    "import re\n",
    "from dotenv import load_dotenv\n",
    "from collections import defaultdict\n",
    "\n",
    "from get_data_from_or import get_client\n",
    "import openreview\n",
    "from datetime import datetime\n"
   ]
  },
  {
   "cell_type": "code",
   "execution_count": null,
   "metadata": {},
   "outputs": [],
   "source": [
    "load_dotenv(\"credentials.env\")\n",
    "client = get_client(os.getenv(\"OR_API_VERSION\"))"
   ]
  },
  {
   "cell_type": "code",
   "execution_count": null,
   "metadata": {},
   "outputs": [],
   "source": [
    "notes = client.get_notes(invitation='ICLR.cc/2019/Conference/-/Blind_Submission', details=\"directReplies\")"
   ]
  },
  {
   "cell_type": "code",
   "execution_count": null,
   "metadata": {},
   "outputs": [],
   "source": [
    "print(len(notes))\n",
    "for note in notes:\n",
    "    for reply in note.details[\"directReplies\"]:\n",
    "        if reply[\"invitation\"].endswith(\"Official_Review\"):\n",
    "            for signature in reply[\"signatures\"]:\n",
    "                if signature.startswith(\"~\"):\n",
    "                    print(json.dumps(reply, indent=3))\n",
    "                    break"
   ]
  },
  {
   "cell_type": "code",
   "execution_count": null,
   "metadata": {},
   "outputs": [],
   "source": [
    "venues = client.get_group(id='venues').members"
   ]
  },
  {
   "cell_type": "code",
   "execution_count": null,
   "metadata": {},
   "outputs": [],
   "source": [
    "print(len(venues))"
   ]
  },
  {
   "cell_type": "markdown",
   "metadata": {},
   "source": [
    "Single Blind submission which have peer reviews"
   ]
  },
  {
   "cell_type": "code",
   "execution_count": null,
   "metadata": {},
   "outputs": [],
   "source": [
    "data = {}\n",
    "for venue in venues:\n",
    "    data[venue] = client.get_all_notes(invitation=f\"{venue}/-/Submission\", details=\"directReplies\")"
   ]
  },
  {
   "cell_type": "code",
   "execution_count": null,
   "metadata": {},
   "outputs": [],
   "source": [
    "peer_reviews = defaultdict(dict)\n",
    "for venue in data:\n",
    "    for paper in data[venue]:\n",
    "        peer_reviews[venue][paper.id] = []\n",
    "        for reply in paper.details[\"directReplies\"]:\n",
    "            if reply[\"invitation\"].endswith(\"Official_Review\"):\n",
    "                peer_reviews[venue][paper.id].append(reply)\n"
   ]
  },
  {
   "cell_type": "code",
   "execution_count": null,
   "metadata": {},
   "outputs": [],
   "source": [
    "with open(\"open_review_reviews_14_12_2023.json\", \"w\") as outfile:\n",
    "    json.dump(peer_reviews, outfile, indent=2)"
   ]
  },
  {
   "cell_type": "code",
   "execution_count": null,
   "metadata": {},
   "outputs": [],
   "source": [
    "papers = defaultdict(dict)\n",
    "json_data = defaultdict(dict)\n",
    "for venue in data:\n",
    "    if len(data[venue])==0:\n",
    "        continue\n",
    "    else:\n",
    "        for paper in data[venue]:\n",
    "            papers[venue][paper.id]=paper\n",
    "            json_data[venue][paper.id]=paper"
   ]
  },
  {
   "cell_type": "code",
   "execution_count": null,
   "metadata": {},
   "outputs": [],
   "source": [
    "with open(\"open_review_papers_plus_reviews_14_12_2023.json\", \"w\") as outfile:\n",
    "    json.dump(json_data, outfile, indent=2)"
   ]
  },
  {
   "cell_type": "markdown",
   "metadata": {},
   "source": [
    "Double Blind submission which have peer reviews"
   ]
  },
  {
   "cell_type": "code",
   "execution_count": null,
   "metadata": {},
   "outputs": [],
   "source": [
    "data2 = {}\n",
    "for venue in venues:\n",
    "    data2[venue] = client.get_all_notes(invitation=f\"{venue}/-/Blind_Submission\", details=\"directReplies\")"
   ]
  },
  {
   "cell_type": "code",
   "execution_count": null,
   "metadata": {},
   "outputs": [],
   "source": [
    "peer_reviews2 = defaultdict(dict)\n",
    "for venue in data2:\n",
    "    for paper in data2[venue]:\n",
    "        peer_reviews2[venue][paper.id] = []\n",
    "        for reply in paper.details[\"directReplies\"]:\n",
    "            if reply[\"invitation\"].endswith(\"Official_Review\"):\n",
    "                peer_reviews2[venue][paper.id].append(reply)\n"
   ]
  },
  {
   "cell_type": "code",
   "execution_count": null,
   "metadata": {},
   "outputs": [],
   "source": [
    "with open(\"open_review_reviews_14_12_2023_double_blind.json\", \"w\") as outfile:\n",
    "    json.dump(peer_reviews2, outfile, indent=2)"
   ]
  },
  {
   "cell_type": "code",
   "execution_count": null,
   "metadata": {},
   "outputs": [],
   "source": [
    "papers2 = defaultdict(dict)\n",
    "json_data2 = defaultdict(dict)\n",
    "for venue in data2:\n",
    "    if len(data2[venue])==0:\n",
    "        continue\n",
    "    else:\n",
    "        for paper in data2[venue]:\n",
    "            papers2[venue][paper.id]=paper\n",
    "            json_data2[venue][paper.id]=paper.to_json()"
   ]
  },
  {
   "cell_type": "code",
   "execution_count": null,
   "metadata": {},
   "outputs": [],
   "source": [
    "with open(\"open_review_papers_plus_reviews_14_12_2023_double_blind.json\", \"w\") as outfile:\n",
    "    json.dump(json_data2, outfile, indent=2)"
   ]
  },
  {
   "cell_type": "code",
   "execution_count": null,
   "metadata": {},
   "outputs": [],
   "source": [
    "n_venues_sb=len([j for j in json_data if len(json_data[j])>0])\n",
    "n_venues_db=len([j for j in json_data2 if len(json_data2[j])>0])\n",
    "n_reviews_sb=0\n",
    "n_papers_sb=0\n",
    "n_reviews_db=0\n",
    "n_papers_db=0\n",
    "n_reviews_open_pa_sb=0\n",
    "n_reviews_open_pa_db=0\n",
    "non_anonymous_reviewers=defaultdict(int)\n",
    "for v in peer_reviews.values():\n",
    "    for p in v.values():\n",
    "        if len(p)>0:\n",
    "            n_papers_sb+=1\n",
    "        for r in p:\n",
    "            n_reviews_sb+=1\n",
    "            identity=None\n",
    "            for signature in r[\"signatures\"]:\n",
    "                if signature.startswith(\"~\") or \"@\" in signature:\n",
    "                    identity=signature\n",
    "            if identity is not None:\n",
    "                non_anonymous_reviewers[identity]+=1\n",
    "                n_reviews_open_pa_sb+=1\n",
    "                \n",
    "for v in peer_reviews2.values():\n",
    "    for p in v.values():\n",
    "        if len(p)>0:\n",
    "            n_papers_db+=1\n",
    "        for r in p:\n",
    "            n_reviews_db+=1\n",
    "            identity=None\n",
    "            for signature in r[\"signatures\"]:\n",
    "                if signature.startswith(\"~\") or \"@\" in signature:\n",
    "                    identity=signature\n",
    "            if identity is not None:\n",
    "                non_anonymous_reviewers[identity]+=1\n",
    "                n_reviews_open_pa_db+=1\n"
   ]
  },
  {
   "cell_type": "code",
   "execution_count": null,
   "metadata": {},
   "outputs": [],
   "source": [
    "\n",
    "print(\"Some stats:\")\n",
    "print(f\"venues with single blind reviews: {n_venues_sb}\")\n",
    "print(f\"venues with double blind reviews: {n_venues_db}\")\n",
    "print(f\"total venues: {n_venues_db+n_venues_sb}\")\n",
    "print()\n",
    "print(f\"submissions single blind: {n_papers_sb}\")\n",
    "print(f\"submissions double blind: {n_papers_db}\")\n",
    "print(f\"total submissions: {n_papers_db+n_papers_sb}\")\n",
    "print()\n",
    "print(f\"reviews single blind: {n_reviews_sb}\")\n",
    "print(f\"reviews double blind: {n_reviews_db}\")\n",
    "print(f\"total reviews: {n_reviews_db+n_reviews_sb}\")\n",
    "print()\n",
    "print(f\"avg. reviews/submission single blind: {n_reviews_sb/n_papers_sb:.2f}\")\n",
    "print(f\"avg. reviews/submission double blind: {n_reviews_db/n_papers_db:.2f}\")\n",
    "print(f\"total avg. reviews/submission: {(n_reviews_db+n_reviews_sb)/(n_papers_db+n_papers_sb):.2f}\")\n",
    "print()\n",
    "print(f\"post acceptance deanonymized reviews single blind: {n_reviews_open_pa_sb}\")\n",
    "print(f\"post acceptance deanonymized reviews double blind: {n_reviews_open_pa_db}\")\n",
    "print(f\"total post acceptance deanonymized reviews: {n_reviews_open_pa_db+n_reviews_open_pa_sb}\")\n"
   ]
  },
  {
   "cell_type": "code",
   "execution_count": null,
   "metadata": {},
   "outputs": [],
   "source": [
    "non_anonymous_reviewer_profiles = openreview.tools.get_profiles(\n",
    "    client,\n",
    "    ids_or_emails=list(non_anonymous_reviewers.keys())\n",
    ")\n"
   ]
  },
  {
   "cell_type": "code",
   "execution_count": null,
   "metadata": {},
   "outputs": [],
   "source": [
    "for conf in json_data2:\n",
    "    print(conf)"
   ]
  },
  {
   "cell_type": "code",
   "execution_count": null,
   "metadata": {},
   "outputs": [],
   "source": [
    "for conf in json_data2:\n",
    "    for paper in json_data2[conf]:\n",
    "        dt_object = datetime.fromtimestamp(json_data2[conf][paper][\"cdate\"]/1000.0)\n",
    "        print(dt_object.strftime(\"%Y-%m-%d %H:%M:%S\"))\n",
    "        print(json.dumps(json_data2[conf][paper], indent=3))\n",
    "        break\n",
    "    break"
   ]
  },
  {
   "cell_type": "code",
   "execution_count": null,
   "metadata": {},
   "outputs": [],
   "source": [
    "peer_reviews.update(peer_reviews2)\n",
    "papers.update(papers2)"
   ]
  },
  {
   "cell_type": "code",
   "execution_count": null,
   "metadata": {},
   "outputs": [],
   "source": [
    "def get_year(conf_name):\n",
    "    sub_names = conf_name.split(\"/\")\n",
    "    for name in sub_names:\n",
    "        if len(name)==4 and name[:2] in [\"19\",\"20\"] and name.isnumeric():\n",
    "            return name\n",
    "        \n",
    "def get_conference(conf_name):\n",
    "    conf_name = conf_name.split(\"/\")[0]    \n",
    "    return conf_name\n",
    "    \n",
    "def get_decision(paper):\n",
    "    for reply in paper.details[\"directReplies\"]:\n",
    "        if reply[\"invitation\"].endswith(\"Decision\"):\n",
    "            return reply[\"content\"][\"decision\"]\n",
    "\n",
    "def get_meta_review(paper):\n",
    "    for reply in paper.details[\"directReplies\"]:\n",
    "        if reply[\"invitation\"].endswith(\"Meta_Review\"):\n",
    "            return reply\n",
    "\n",
    "def get_avg_score(reviews):\n",
    "    return sum([r[\"score\"] for r in reviews if r[\"score\"] is not None])\n",
    "\n",
    "def get_meta_score(reviews):\n",
    "    return\n",
    "\n",
    "def get_score(review, keys):\n",
    "    if review is not None:\n",
    "        score = None\n",
    "        for kw in [\n",
    "            \"rating\", \n",
    "            \"final_rating\", \n",
    "            \"final_rating_after_the_rebuttal\", \n",
    "            \"overall_assessment\",\n",
    "            \"overall_rating\", \n",
    "            \"review_rating\", \n",
    "            \"score\",\n",
    "            \"Overall Score\",\n",
    "            \"Overall score\",\n",
    "            \"Q6 Overall score\",\n",
    "            \"recommendation\"]:\n",
    "            if kw in review[\"content\"]:\n",
    "                # if kw==\"Q6 Overall score\":\n",
    "                    # print(re.match(\"-?\\d+\",review[\"content\"][kw]).group(0))\n",
    "                try:\n",
    "                    score = re.match(\"-?\\d+\",review[\"content\"][kw])\n",
    "                    if score is not None:\n",
    "                        break\n",
    "                except TypeError:\n",
    "                    continue\n",
    "        if score is not None:\n",
    "            return int(score.group(0))\n",
    "        else:\n",
    "            keys|=keys|review[\"content\"].keys()\n",
    "review_keys=set()\n",
    "confs_by_year = defaultdict(lambda: defaultdict(list))\n",
    "for conf in peer_reviews:\n",
    "    for paper in peer_reviews[conf]:\n",
    "        decision = get_decision(papers[conf][paper])\n",
    "        for pr in peer_reviews[conf][paper]:\n",
    "            score = get_score(pr, review_keys)\n",
    "            pr[\"score\"] = score\n",
    "        if decision is not None: \n",
    "            if len(peer_reviews[conf][paper])>0:\n",
    "                confs_by_year[get_conference(conf)][get_year(conf)].append(\n",
    "                    {\n",
    "                        \"decision\": decision,\n",
    "                        \"avg_score\": get_avg_score(peer_reviews[conf][paper]),\n",
    "                        \"reviews\": peer_reviews[conf][paper]\n",
    "                    }\n",
    "                )\n",
    "    "
   ]
  },
  {
   "cell_type": "code",
   "execution_count": null,
   "metadata": {},
   "outputs": [],
   "source": [
    "review_keys"
   ]
  },
  {
   "cell_type": "code",
   "execution_count": null,
   "metadata": {},
   "outputs": [],
   "source": [
    "for conf in confs_by_year:\n",
    "    print(confs_by_year[conf].keys())"
   ]
  },
  {
   "cell_type": "code",
   "execution_count": null,
   "metadata": {},
   "outputs": [],
   "source": [
    "print(json.dumps(non_anonymous_reviewer_profiles[0].to_json(), indent=3))"
   ]
  },
  {
   "cell_type": "markdown",
   "metadata": {},
   "source": [
    "# API V2"
   ]
  },
  {
   "cell_type": "code",
   "execution_count": null,
   "metadata": {},
   "outputs": [],
   "source": [
    "venue_group = client.get_group(\"ICLR.cc/2022/Conference\")\n",
    "print(venue_group.to_json().keys())"
   ]
  },
  {
   "cell_type": "code",
   "execution_count": null,
   "metadata": {},
   "outputs": [],
   "source": [
    "print(venue_group.to_json()[\"readers\"])"
   ]
  },
  {
   "cell_type": "code",
   "execution_count": null,
   "metadata": {},
   "outputs": [],
   "source": [
    "json_data3 = {}\n",
    "for venue_id in venues:\n",
    "    try:\n",
    "        venue_group = client.get_group(venue_id)\n",
    "        submission_name = venue_group.content['submission_name']['value']\n",
    "        submissions = client.get_all_notes(invitation=f'{venue_id}/-/{submission_name}', details='replies')\n",
    "        for paper in submissions:\n",
    "            json_data3[venue_id][paper.id]=paper.to_json()\n",
    "        print(f\"{venue_id} is API V2 venue.\")\n",
    "    except AttributeError:\n",
    "        pass\n",
    "    except openreview.OpenReviewException as e:\n",
    "        print(e)"
   ]
  },
  {
   "cell_type": "code",
   "execution_count": null,
   "metadata": {},
   "outputs": [],
   "source": [
    "json_data3"
   ]
  },
  {
   "cell_type": "code",
   "execution_count": null,
   "metadata": {},
   "outputs": [],
   "source": [
    "venues_raw = client.get_group(id='venues').to_json()"
   ]
  },
  {
   "cell_type": "code",
   "execution_count": null,
   "metadata": {},
   "outputs": [],
   "source": [
    "venues_raw.keys()"
   ]
  },
  {
   "cell_type": "code",
   "execution_count": null,
   "metadata": {},
   "outputs": [],
   "source": []
  }
 ],
 "metadata": {
  "kernelspec": {
   "display_name": "crawling_or_env",
   "language": "python",
   "name": "python3"
  },
  "language_info": {
   "codemirror_mode": {
    "name": "ipython",
    "version": 3
   },
   "file_extension": ".py",
   "mimetype": "text/x-python",
   "name": "python",
   "nbconvert_exporter": "python",
   "pygments_lexer": "ipython3",
   "version": "3.11.1"
  }
 },
 "nbformat": 4,
 "nbformat_minor": 2
}
