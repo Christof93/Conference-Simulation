{
 "cells": [
  {
   "cell_type": "code",
   "execution_count": 2,
   "metadata": {},
   "outputs": [],
   "source": [
    "import requests\n",
    "import os\n",
    "import csv\n",
    "from urllib.parse import quote\n"
   ]
  },
  {
   "cell_type": "code",
   "execution_count": 3,
   "metadata": {},
   "outputs": [
    {
     "name": "stdout",
     "output_type": "stream",
     "text": [
      "APP-UGRLNMYQKMKP1JMR\n",
      "4a304a32-cf67-415e-9c41-579c3ba857a6\n"
     ]
    }
   ],
   "source": [
    "\n",
    "# CLIENT_ID = os.getenv(\"ORCID_ID\")\n",
    "CLIENT_ID = \"APP-UGRLNMYQKMKP1JMR\"\n",
    "# CLIENT_SECRET = os.getenv(\"ORCID_SECRET\")\n",
    "CLIENT_SECRET = \"4a304a32-cf67-415e-9c41-579c3ba857a6\"\n",
    "print(CLIENT_ID)\n",
    "print(CLIENT_SECRET)\n",
    "token = requests.post(\"https://orcid.org/oauth/token\", data = {\n",
    "    \"client_id\": CLIENT_ID,\n",
    "    \"client_secret\": CLIENT_SECRET,\n",
    "    \"grant_type\": \"client_credentials\",\n",
    "    \"scope\": \"/read-public\",\n",
    "}, headers = {\"Accept\":\"application/json\"})"
   ]
  },
  {
   "cell_type": "code",
   "execution_count": 4,
   "metadata": {},
   "outputs": [
    {
     "data": {
      "text/plain": [
       "{'access_token': '8adc47ee-8d3b-42ed-b652-03b0bad1d95f',\n",
       " 'token_type': 'bearer',\n",
       " 'refresh_token': '10558944-a4cc-409d-815f-f5dffb945691',\n",
       " 'expires_in': 631138518,\n",
       " 'scope': '/read-public',\n",
       " 'orcid': None}"
      ]
     },
     "execution_count": 4,
     "metadata": {},
     "output_type": "execute_result"
    }
   ],
   "source": [
    "token.json()"
   ]
  },
  {
   "cell_type": "code",
   "execution_count": null,
   "metadata": {},
   "outputs": [],
   "source": []
  },
  {
   "cell_type": "code",
   "execution_count": 5,
   "metadata": {},
   "outputs": [],
   "source": [
    "ORCID_SEARCH = f\"https://api.orcid.org/v3.0/csv-search/?q=affiliation-org-name:(%22Boston%20University%22+OR+BU)&fl=orcid,given-names,family-name\""
   ]
  },
  {
   "cell_type": "code",
   "execution_count": 6,
   "metadata": {},
   "outputs": [
    {
     "name": "stdout",
     "output_type": "stream",
     "text": [
      "https://api.orcid.org/v3.0/csv-search/?q=affiliation-org-name:(%22Boston%20University%22+OR+BU)&fl=orcid,given-names,family-name\n"
     ]
    }
   ],
   "source": [
    "print(ORCID_SEARCH)\n",
    "response = requests.get(\n",
    "    ORCID_SEARCH, \n",
    "    headers = {\n",
    "        \"Accept\": \"application/vnd.orcid+json\",\n",
    "        \"Authorization\": f\"Bearer {token.json()['access_token']}\",\n",
    "    }\n",
    ")"
   ]
  },
  {
   "cell_type": "code",
   "execution_count": 7,
   "metadata": {},
   "outputs": [
    {
     "name": "stdout",
     "output_type": "stream",
     "text": [
      "<Response [403]>\n",
      "{\n",
      "  \"error\" : \"access_denied\",\n",
      "  \"error_description\" : \"Access is denied\"\n",
      "}\n"
     ]
    }
   ],
   "source": [
    "print(response)\n",
    "print(response.text)"
   ]
  },
  {
   "cell_type": "code",
   "execution_count": 114,
   "metadata": {},
   "outputs": [],
   "source": [
    "def get_conf_rankings(ranking_csv_file):\n",
    "    rank_lookup = {}\n",
    "    with open(ranking_csv_file, \"r\") as csv_fh:\n",
    "        core_csv = csv.reader(csv_fh)\n",
    "        for row in core_csv:\n",
    "            # rank_lookup[re.search(r\"\\d{4}\", row[3]).group(0)][row[2]]=row[4]\n",
    "            rank_lookup[row[2]]=row[4]\n",
    "    return rank_lookup"
   ]
  },
  {
   "cell_type": "code",
   "execution_count": 115,
   "metadata": {},
   "outputs": [],
   "source": [
    "core_ranks = get_conf_rankings(\"CORE.csv\")"
   ]
  },
  {
   "cell_type": "code",
   "execution_count": 116,
   "metadata": {},
   "outputs": [
    {
     "data": {
      "text/plain": [
       "'A*'"
      ]
     },
     "execution_count": 116,
     "metadata": {},
     "output_type": "execute_result"
    }
   ],
   "source": [
    "core_ranks[\"WWW\"]"
   ]
  },
  {
   "cell_type": "code",
   "execution_count": 119,
   "metadata": {},
   "outputs": [],
   "source": [
    "from neo4j import GraphDatabase\n",
    "URI = \"neo4j://localhost:7687\"\n",
    "def run_cypher_match(neo4j_driver, db_name, query, params=None):\n",
    "    session = neo4j_driver.session(database=db_name)\n",
    "    try:\n",
    "        result = session.run(query, parameters=params)\n",
    "        return [line for line in result]\n",
    "    finally:\n",
    "        session.close()\n",
    "\n",
    "def get_confs():\n",
    "    with GraphDatabase.driver(URI, auth=(\"neo4j\", \"openreview\")) as driver:\n",
    "        batch = run_cypher_match(\n",
    "        driver,\n",
    "        \"open-review-data\",\n",
    "        f\"MATCH (c:Conference) RETURN c.id AS id, c.name AS name, c.year as year\",\n",
    "    )\n",
    "    return batch\n",
    "\n",
    "def set_conf_rank(conf_id, rank, acr):\n",
    "    props = {\"acronym\":acr, \"rank\":rank}\n",
    "    query = \"\"\"\n",
    "    MATCH (c:Conference {id: $id})\n",
    "    SET c += $newProperties\n",
    "    RETURN c\n",
    "    \"\"\"    \n",
    "    with GraphDatabase.driver(URI, auth=(\"neo4j\", \"openreview\")) as driver:\n",
    "        with driver.session(database=\"open-review-data\") as session:\n",
    "            session.execute_write(lambda tx: tx.run(query, id=conf_id, newProperties=props))\n",
    "        \n",
    "def find_rank(lookup, acr):\n",
    "    try:\n",
    "        return lookup[acr]\n",
    "    except KeyError:\n",
    "        return \"Unranked\"\n",
    "\n",
    "def add_rank_to_conferences():\n",
    "    confs = get_confs()\n",
    "    conf_rank = get_conf_rankings(\"CORE.csv\")\n",
    "    for conf in confs:\n",
    "        shortname = conf[\"name\"].split(\".\")[0]\n",
    "        \n",
    "        if shortname==\"eswc-conferences\":\n",
    "            shortname = \"ESWC\"\n",
    "\n",
    "        elif shortname==\"aclweb\":\n",
    "            shortname = \"ACL\"\n",
    "\n",
    "        elif shortname==\"sigmobile\":\n",
    "            shortname = \"Mobisys\"\n",
    "\n",
    "        elif shortname==\"humanrobotinteraction\":\n",
    "            shortname = \"HRI\"\n",
    "\n",
    "        elif shortname==\"ijcai\":\n",
    "            shortname = \"IJCAI\"\n",
    "\n",
    "        elif shortname==\"icaps-conference\":\n",
    "            shortname = \"ICAPS\"\n",
    "        \n",
    "        elif shortname==\"ECMLPKDD\" or shortname==\"ECMLPKDD\".lower():\n",
    "            shortname = \"ECML PKDD\"\n",
    "        \n",
    "        elif shortname==\"robot-learning\":\n",
    "            shortname=\"CoRL\"\n",
    "        \n",
    "        elif shortname==\"cclear\":\n",
    "            shortname=\"CLeaR\"\n",
    "        \n",
    "        elif shortname==\"thecvf\":\n",
    "            shortname=\"ECCV\"\n",
    "        \n",
    "        elif shortname==\"graphicsinterface\":\n",
    "            shortname=\"GI\"\n",
    "        \n",
    "        elif shortname==\"iscaconf\":\n",
    "            shortname=\"ISCA\"\n",
    "        \n",
    "        elif shortname==\"auai\":\n",
    "            shortname=\"UAI\"\n",
    "        \n",
    "        elif shortname==\"roboticsfoundation\":\n",
    "            shortname=\"RSS\"\n",
    "            \n",
    "        rank = find_rank(conf_rank, shortname)\n",
    "        set_conf_rank(conf[\"id\"], rank, shortname)\n",
    "\n"
   ]
  },
  {
   "cell_type": "code",
   "execution_count": 120,
   "metadata": {},
   "outputs": [
    {
     "name": "stdout",
     "output_type": "stream",
     "text": [
      "ICLR\n",
      "A*\n",
      "ICLR\n",
      "A*\n",
      "ICLR\n",
      "A*\n",
      "ICLR\n",
      "A*\n",
      "ICLR\n",
      "A*\n",
      "ICLR\n",
      "A*\n",
      "ICML\n",
      "A*\n",
      "ICML\n",
      "A*\n",
      "ICML\n",
      "A*\n",
      "ESWC\n",
      "B\n",
      "ESWC\n",
      "B\n",
      "MIDL\n",
      "Unranked\n",
      "RSS\n",
      "A*\n",
      "RSS\n",
      "A*\n",
      "vivoconference\n",
      "Unranked\n",
      "MICCAI\n",
      "A\n",
      "MICCAI\n",
      "A\n",
      "NeurIPS\n",
      "A*\n",
      "NeurIPS\n",
      "A*\n",
      "NeurIPS\n",
      "A*\n",
      "NeurIPS\n",
      "A*\n",
      "ACL\n",
      "A*\n",
      "ACL\n",
      "A*\n",
      "HRI\n",
      "A\n",
      "HRI\n",
      "A\n",
      "IJCAI\n",
      "A*\n",
      "kg-construct\n",
      "Unranked\n",
      "GeoMedIA\n",
      "Unranked\n",
      "UAI\n",
      "A\n",
      "ACM\n",
      "Unranked\n",
      "ACM\n",
      "Unranked\n",
      "ACM\n",
      "Unranked\n",
      "ACM\n",
      "Unranked\n",
      "AKBC\n",
      "Unranked\n",
      "AKBC\n",
      "Unranked\n",
      "AKBC\n",
      "Unranked\n",
      "ICAPS\n",
      "A*\n",
      "ICAPS\n",
      "A*\n",
      "ICAPS\n",
      "A*\n",
      "ICAPS\n",
      "A*\n",
      "ICAPS\n",
      "A*\n",
      "ECCV\n",
      "A*\n",
      "ECCV\n",
      "A*\n",
      "GI\n",
      "C\n",
      "GI\n",
      "C\n",
      "GI\n",
      "C\n",
      "Mobisys\n",
      "A\n",
      "ECML PKDD\n",
      "A\n",
      "tinyml\n",
      "Unranked\n",
      "ML_Reproducibility_Challenge\n",
      "Unranked\n",
      "ML_Reproducibility_Challenge\n",
      "Unranked\n",
      "CoRL\n",
      "Unranked\n",
      "CoRL\n",
      "Unranked\n",
      "CoRL\n",
      "Unranked\n",
      "ECML PKDD\n",
      "A\n",
      "CLeaR\n",
      "Unranked\n",
      "uoft\n",
      "Unranked\n",
      "AAAI\n",
      "A*\n",
      "AAAI\n",
      "A*\n",
      "WBIR\n",
      "Unranked\n",
      "automl\n",
      "Unranked\n",
      "automl\n",
      "Unranked\n",
      "ISCA\n",
      "A*\n",
      "logconference\n",
      "Unranked\n",
      "JSYS\n",
      "Unranked\n",
      "JSYS\n",
      "Unranked\n",
      "JSYS\n",
      "Unranked\n",
      "IEEE\n",
      "Unranked\n",
      "Interspeech\n",
      "A\n",
      "NoDaLiDa\n",
      "Unranked\n",
      "RBCDSAI\n",
      "Unranked\n"
     ]
    }
   ],
   "source": [
    "add_rank_to_conferences()"
   ]
  },
  {
   "cell_type": "code",
   "execution_count": null,
   "metadata": {},
   "outputs": [],
   "source": []
  }
 ],
 "metadata": {
  "kernelspec": {
   "display_name": "crawling_or_env",
   "language": "python",
   "name": "python3"
  },
  "language_info": {
   "codemirror_mode": {
    "name": "ipython",
    "version": 3
   },
   "file_extension": ".py",
   "mimetype": "text/x-python",
   "name": "python",
   "nbconvert_exporter": "python",
   "pygments_lexer": "ipython3",
   "version": "3.11.1"
  }
 },
 "nbformat": 4,
 "nbformat_minor": 2
}
