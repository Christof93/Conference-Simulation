{
 "cells": [
  {
   "cell_type": "code",
   "execution_count": 10,
   "metadata": {},
   "outputs": [],
   "source": [
    "import pickle"
   ]
  },
  {
   "cell_type": "code",
   "execution_count": 11,
   "metadata": {},
   "outputs": [],
   "source": [
    "with open('confs_by_year.pickle', 'rb') as f:\n",
    "    confs_by_year = pickle.load(f)"
   ]
  },
  {
   "cell_type": "code",
   "execution_count": 12,
   "metadata": {},
   "outputs": [
    {
     "name": "stdout",
     "output_type": "stream",
     "text": [
      "ICLR.cc [2018, 2019, 2020, 2021, 2022, 2023]\n",
      "ICML.cc [2019, 2020, 2021]\n",
      "eswc-conferences.org [2019, 2021]\n",
      "MIDL.io [2022]\n",
      "roboticsfoundation.org [2020, 2023]\n",
      "vivoconference.org [2019]\n",
      "MICCAI.org [2019, 2021]\n",
      "NeurIPS.cc [2019, 2020, 2021, 2022]\n",
      "aclweb.org [2020, 2022]\n",
      "humanrobotinteraction.org [2022]\n",
      "ijcai.org [2021]\n",
      "kg-construct.github.io [2022]\n",
      "GeoMedIA [2022]\n",
      "auai.org [2022]\n",
      "ACM.org [2020, 2021, 2022, 2023]\n",
      "AKBC.ws [2019, 2020, 2021]\n",
      "icaps-conference.org [2019, 2020, 2021, 2022, 2023]\n",
      "thecvf.com [2020, 2022]\n",
      "graphicsinterface.org [2020, 2021, 2022]\n",
      "sigmobile.org [2020]\n",
      "ECMLPKDD.org [2020]\n",
      "tinyml.org [2021]\n",
      "ML_Reproducibility_Challenge [2020, 2021]\n",
      "robot-learning.org [2021, 2022, 2023]\n",
      "ecmlpkdd.org [2021]\n",
      "cclear.cc [2022]\n",
      "uoft.ai [2021]\n",
      "AAAI.org [2022, 2023]\n",
      "WBIR.info [2022]\n",
      "automl.cc [2022, 2023]\n",
      "iscaconf.org [2022]\n",
      "logconference.io [2022]\n",
      "JSYS [2021, 2022, 2023]\n",
      "IEEE.org [2022]\n",
      "Interspeech.org [2023]\n",
      "NoDaLiDa [2023]\n",
      "RBCDSAI.iitm.ac.in [2023]\n"
     ]
    }
   ],
   "source": [
    "for conf in confs_by_year:\n",
    "    print(conf, sorted([int(y) for y in confs_by_year[conf].keys() if y is not None]))"
   ]
  },
  {
   "cell_type": "code",
   "execution_count": null,
   "metadata": {},
   "outputs": [],
   "source": []
  }
 ],
 "metadata": {
  "kernelspec": {
   "display_name": "crawling_or_env",
   "language": "python",
   "name": "python3"
  },
  "language_info": {
   "codemirror_mode": {
    "name": "ipython",
    "version": 3
   },
   "file_extension": ".py",
   "mimetype": "text/x-python",
   "name": "python",
   "nbconvert_exporter": "python",
   "pygments_lexer": "ipython3",
   "version": "3.11.1"
  }
 },
 "nbformat": 4,
 "nbformat_minor": 2
}
