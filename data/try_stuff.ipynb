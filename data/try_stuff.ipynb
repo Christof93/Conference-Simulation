{
 "cells": [
  {
   "cell_type": "code",
   "execution_count": 19,
   "metadata": {},
   "outputs": [],
   "source": [
    "import pickle\n",
    "from hydrate_neo4j_graph import *\n"
   ]
  },
  {
   "cell_type": "code",
   "execution_count": null,
   "metadata": {},
   "outputs": [],
   "source": [
    "with open('confs_by_year.pickle', 'rb') as f:\n",
    "    confs_by_year = pickle.load(f)\n",
    "with open('papers.pickle', 'rb') as f:\n",
    "    papers_by_conf = pickle.load(f)\n",
    "num_papers = 0\n",
    "papers = {}\n",
    "for conf in papers_by_conf:\n",
    "    for paper_id in papers_by_conf[conf]:\n",
    "        num_papers+=1\n",
    "        papers[paper_id]=papers_by_conf[conf][paper_id]\n",
    "assert num_papers==len(papers)\n",
    "authors = defaultdict(list)\n",
    "for paper in papers:\n",
    "    for author_id, author in zip(papers[paper].content[\"authorids\"], papers[paper].content[\"authors\"]):\n",
    "        authors[f'{author_id}|{author}'].append(papers[paper].id)\n",
    "\n",
    "insert_authors_params = make_author_nodes(authors)\n",
    "insert_confs_params = make_conf_nodes(confs_by_year)\n",
    "insert_paper_params, insert_reviews_params, insert_relations = \\\n",
    "    make_paper_review_nodes_and_relations(confs_by_year, papers)"
   ]
  },
  {
   "cell_type": "code",
   "execution_count": null,
   "metadata": {},
   "outputs": [],
   "source": [
    "\n"
   ]
  },
  {
   "cell_type": "code",
   "execution_count": null,
   "metadata": {},
   "outputs": [],
   "source": [
    "# driver = GraphDatabase.driver(uri, auth=(\"neo4j\", \"openreview\"))\n",
    "try:\n",
    "    rels = make_reviewer_relation(driver, [r[\"obj\"] for r in insert_relations[\"relations\"][\"_HAS_REVIEW\"]])\n",
    "finally:\n",
    "    driver.close()"
   ]
  },
  {
   "cell_type": "code",
   "execution_count": null,
   "metadata": {},
   "outputs": [],
   "source": [
    "assert len(list(rels))==len(insert_relations[\"relations\"][\"_HAS_REVIEW\"])"
   ]
  },
  {
   "cell_type": "code",
   "execution_count": null,
   "metadata": {},
   "outputs": [],
   "source": [
    "len(insert_relations[\"relations\"][\"_HAS_REVIEW\"])"
   ]
  },
  {
   "cell_type": "code",
   "execution_count": null,
   "metadata": {},
   "outputs": [],
   "source": [
    "len(list(rels))"
   ]
  },
  {
   "cell_type": "code",
   "execution_count": null,
   "metadata": {},
   "outputs": [],
   "source": [
    "rels"
   ]
  },
  {
   "cell_type": "code",
   "execution_count": null,
   "metadata": {},
   "outputs": [],
   "source": []
  }
 ],
 "metadata": {
  "kernelspec": {
   "display_name": "crawling_or_env",
   "language": "python",
   "name": "python3"
  },
  "language_info": {
   "codemirror_mode": {
    "name": "ipython",
    "version": 3
   },
   "file_extension": ".py",
   "mimetype": "text/x-python",
   "name": "python",
   "nbconvert_exporter": "python",
   "pygments_lexer": "ipython3",
   "version": "3.11.1"
  }
 },
 "nbformat": 4,
 "nbformat_minor": 2
}
