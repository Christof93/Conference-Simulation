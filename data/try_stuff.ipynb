{
 "cells": [
  {
   "cell_type": "code",
   "execution_count": 2,
   "metadata": {},
   "outputs": [],
   "source": [
    "import requests\n",
    "import os\n",
    "import csv\n",
    "from urllib.parse import quote\n"
   ]
  },
  {
   "cell_type": "code",
   "execution_count": 3,
   "metadata": {},
   "outputs": [
    {
     "name": "stdout",
     "output_type": "stream",
     "text": [
      "APP-UGRLNMYQKMKP1JMR\n",
      "4a304a32-cf67-415e-9c41-579c3ba857a6\n"
     ]
    }
   ],
   "source": [
    "\n",
    "# CLIENT_ID = os.getenv(\"ORCID_ID\")\n",
    "CLIENT_ID = \"APP-UGRLNMYQKMKP1JMR\"\n",
    "# CLIENT_SECRET = os.getenv(\"ORCID_SECRET\")\n",
    "CLIENT_SECRET = \"4a304a32-cf67-415e-9c41-579c3ba857a6\"\n",
    "print(CLIENT_ID)\n",
    "print(CLIENT_SECRET)\n",
    "token = requests.post(\"https://orcid.org/oauth/token\", data = {\n",
    "    \"client_id\": CLIENT_ID,\n",
    "    \"client_secret\": CLIENT_SECRET,\n",
    "    \"grant_type\": \"client_credentials\",\n",
    "    \"scope\": \"/read-public\",\n",
    "}, headers = {\"Accept\":\"application/json\"})"
   ]
  },
  {
   "cell_type": "code",
   "execution_count": 4,
   "metadata": {},
   "outputs": [
    {
     "data": {
      "text/plain": [
       "{'access_token': '8adc47ee-8d3b-42ed-b652-03b0bad1d95f',\n",
       " 'token_type': 'bearer',\n",
       " 'refresh_token': '10558944-a4cc-409d-815f-f5dffb945691',\n",
       " 'expires_in': 631138518,\n",
       " 'scope': '/read-public',\n",
       " 'orcid': None}"
      ]
     },
     "execution_count": 4,
     "metadata": {},
     "output_type": "execute_result"
    }
   ],
   "source": [
    "token.json()"
   ]
  },
  {
   "cell_type": "code",
   "execution_count": null,
   "metadata": {},
   "outputs": [],
   "source": []
  },
  {
   "cell_type": "code",
   "execution_count": 5,
   "metadata": {},
   "outputs": [],
   "source": [
    "ORCID_SEARCH = f\"https://api.orcid.org/v3.0/csv-search/?q=affiliation-org-name:(%22Boston%20University%22+OR+BU)&fl=orcid,given-names,family-name\""
   ]
  },
  {
   "cell_type": "code",
   "execution_count": 6,
   "metadata": {},
   "outputs": [
    {
     "name": "stdout",
     "output_type": "stream",
     "text": [
      "https://api.orcid.org/v3.0/csv-search/?q=affiliation-org-name:(%22Boston%20University%22+OR+BU)&fl=orcid,given-names,family-name\n"
     ]
    }
   ],
   "source": [
    "print(ORCID_SEARCH)\n",
    "response = requests.get(\n",
    "    ORCID_SEARCH, \n",
    "    headers = {\n",
    "        \"Accept\": \"application/vnd.orcid+json\",\n",
    "        \"Authorization\": f\"Bearer {token.json()['access_token']}\",\n",
    "    }\n",
    ")"
   ]
  },
  {
   "cell_type": "code",
   "execution_count": 7,
   "metadata": {},
   "outputs": [
    {
     "name": "stdout",
     "output_type": "stream",
     "text": [
      "<Response [403]>\n",
      "{\n",
      "  \"error\" : \"access_denied\",\n",
      "  \"error_description\" : \"Access is denied\"\n",
      "}\n"
     ]
    }
   ],
   "source": [
    "print(response)\n",
    "print(response.text)"
   ]
  },
  {
   "cell_type": "code",
   "execution_count": 114,
   "metadata": {},
   "outputs": [],
   "source": [
    "def get_conf_rankings(ranking_csv_file):\n",
    "    rank_lookup = {}\n",
    "    with open(ranking_csv_file, \"r\") as csv_fh:\n",
    "        core_csv = csv.reader(csv_fh)\n",
    "        for row in core_csv:\n",
    "            # rank_lookup[re.search(r\"\\d{4}\", row[3]).group(0)][row[2]]=row[4]\n",
    "            rank_lookup[row[2]]=row[4]\n",
    "    return rank_lookup"
   ]
  },
  {
   "cell_type": "code",
   "execution_count": 115,
   "metadata": {},
   "outputs": [],
   "source": [
    "core_ranks = get_conf_rankings(\"CORE.csv\")"
   ]
  },
  {
   "cell_type": "code",
   "execution_count": 116,
   "metadata": {},
   "outputs": [
    {
     "data": {
      "text/plain": [
       "'A*'"
      ]
     },
     "execution_count": 116,
     "metadata": {},
     "output_type": "execute_result"
    }
   ],
   "source": [
    "core_ranks[\"WWW\"]"
   ]
  },
  {
   "cell_type": "code",
   "execution_count": 119,
   "metadata": {},
   "outputs": [],
   "source": [
    "from neo4j import GraphDatabase\n",
    "URI = \"neo4j://localhost:7687\"\n",
    "def run_cypher_match(neo4j_driver, db_name, query, params=None):\n",
    "    session = neo4j_driver.session(database=db_name)\n",
    "    try:\n",
    "        result = session.run(query, parameters=params)\n",
    "        return [line for line in result]\n",
    "    finally:\n",
    "        session.close()\n",
    "\n",
    "def get_confs():\n",
    "    with GraphDatabase.driver(URI, auth=(\"neo4j\", \"openreview\")) as driver:\n",
    "        batch = run_cypher_match(\n",
    "        driver,\n",
    "        \"open-review-data\",\n",
    "        f\"MATCH (c:Conference) RETURN c.id AS id, c.name AS name, c.year as year\",\n",
    "    )\n",
    "    return batch\n",
    "\n",
    "def set_conf_rank(conf_id, rank, acr):\n",
    "    props = {\"acronym\":acr, \"rank\":rank}\n",
    "    query = \"\"\"\n",
    "    MATCH (c:Conference {id: $id})\n",
    "    SET c += $newProperties\n",
    "    RETURN c\n",
    "    \"\"\"    \n",
    "    with GraphDatabase.driver(URI, auth=(\"neo4j\", \"openreview\")) as driver:\n",
    "        with driver.session(database=\"open-review-data\") as session:\n",
    "            session.execute_write(lambda tx: tx.run(query, id=conf_id, newProperties=props))\n",
    "        \n",
    "def find_rank(lookup, acr):\n",
    "    try:\n",
    "        return lookup[acr]\n",
    "    except KeyError:\n",
    "        return \"Unranked\"\n",
    "\n",
    "def add_rank_to_conferences():\n",
    "    confs = get_confs()\n",
    "    conf_rank = get_conf_rankings(\"CORE.csv\")\n",
    "    for conf in confs:\n",
    "        shortname = conf[\"name\"].split(\".\")[0]\n",
    "        \n",
    "        if shortname==\"eswc-conferences\":\n",
    "            shortname = \"ESWC\"\n",
    "\n",
    "        elif shortname==\"aclweb\":\n",
    "            shortname = \"ACL\"\n",
    "\n",
    "        elif shortname==\"sigmobile\":\n",
    "            shortname = \"Mobisys\"\n",
    "\n",
    "        elif shortname==\"humanrobotinteraction\":\n",
    "            shortname = \"HRI\"\n",
    "\n",
    "        elif shortname==\"ijcai\":\n",
    "            shortname = \"IJCAI\"\n",
    "\n",
    "        elif shortname==\"icaps-conference\":\n",
    "            shortname = \"ICAPS\"\n",
    "        \n",
    "        elif shortname==\"ECMLPKDD\" or shortname==\"ECMLPKDD\".lower():\n",
    "            shortname = \"ECML PKDD\"\n",
    "        \n",
    "        elif shortname==\"robot-learning\":\n",
    "            shortname=\"CoRL\"\n",
    "        \n",
    "        elif shortname==\"cclear\":\n",
    "            shortname=\"CLeaR\"\n",
    "        \n",
    "        elif shortname==\"thecvf\":\n",
    "            shortname=\"ECCV\"\n",
    "        \n",
    "        elif shortname==\"graphicsinterface\":\n",
    "            shortname=\"GI\"\n",
    "        \n",
    "        elif shortname==\"iscaconf\":\n",
    "            shortname=\"ISCA\"\n",
    "        \n",
    "        elif shortname==\"auai\":\n",
    "            shortname=\"UAI\"\n",
    "        \n",
    "        elif shortname==\"roboticsfoundation\":\n",
    "            shortname=\"RSS\"\n",
    "            \n",
    "        rank = find_rank(conf_rank, shortname)\n",
    "        set_conf_rank(conf[\"id\"], rank, shortname)\n",
    "\n"
   ]
  },
  {
   "cell_type": "code",
   "execution_count": 120,
   "metadata": {},
   "outputs": [
    {
     "name": "stdout",
     "output_type": "stream",
     "text": [
      "ICLR\n",
      "A*\n",
      "ICLR\n",
      "A*\n",
      "ICLR\n",
      "A*\n",
      "ICLR\n",
      "A*\n",
      "ICLR\n",
      "A*\n",
      "ICLR\n",
      "A*\n",
      "ICML\n",
      "A*\n",
      "ICML\n",
      "A*\n",
      "ICML\n",
      "A*\n",
      "ESWC\n",
      "B\n",
      "ESWC\n",
      "B\n",
      "MIDL\n",
      "Unranked\n",
      "RSS\n",
      "A*\n",
      "RSS\n",
      "A*\n",
      "vivoconference\n",
      "Unranked\n",
      "MICCAI\n",
      "A\n",
      "MICCAI\n",
      "A\n",
      "NeurIPS\n",
      "A*\n",
      "NeurIPS\n",
      "A*\n",
      "NeurIPS\n",
      "A*\n",
      "NeurIPS\n",
      "A*\n",
      "ACL\n",
      "A*\n",
      "ACL\n",
      "A*\n",
      "HRI\n",
      "A\n",
      "HRI\n",
      "A\n",
      "IJCAI\n",
      "A*\n",
      "kg-construct\n",
      "Unranked\n",
      "GeoMedIA\n",
      "Unranked\n",
      "UAI\n",
      "A\n",
      "ACM\n",
      "Unranked\n",
      "ACM\n",
      "Unranked\n",
      "ACM\n",
      "Unranked\n",
      "ACM\n",
      "Unranked\n",
      "AKBC\n",
      "Unranked\n",
      "AKBC\n",
      "Unranked\n",
      "AKBC\n",
      "Unranked\n",
      "ICAPS\n",
      "A*\n",
      "ICAPS\n",
      "A*\n",
      "ICAPS\n",
      "A*\n",
      "ICAPS\n",
      "A*\n",
      "ICAPS\n",
      "A*\n",
      "ECCV\n",
      "A*\n",
      "ECCV\n",
      "A*\n",
      "GI\n",
      "C\n",
      "GI\n",
      "C\n",
      "GI\n",
      "C\n",
      "Mobisys\n",
      "A\n",
      "ECML PKDD\n",
      "A\n",
      "tinyml\n",
      "Unranked\n",
      "ML_Reproducibility_Challenge\n",
      "Unranked\n",
      "ML_Reproducibility_Challenge\n",
      "Unranked\n",
      "CoRL\n",
      "Unranked\n",
      "CoRL\n",
      "Unranked\n",
      "CoRL\n",
      "Unranked\n",
      "ECML PKDD\n",
      "A\n",
      "CLeaR\n",
      "Unranked\n",
      "uoft\n",
      "Unranked\n",
      "AAAI\n",
      "A*\n",
      "AAAI\n",
      "A*\n",
      "WBIR\n",
      "Unranked\n",
      "automl\n",
      "Unranked\n",
      "automl\n",
      "Unranked\n",
      "ISCA\n",
      "A*\n",
      "logconference\n",
      "Unranked\n",
      "JSYS\n",
      "Unranked\n",
      "JSYS\n",
      "Unranked\n",
      "JSYS\n",
      "Unranked\n",
      "IEEE\n",
      "Unranked\n",
      "Interspeech\n",
      "A\n",
      "NoDaLiDa\n",
      "Unranked\n",
      "RBCDSAI\n",
      "Unranked\n"
     ]
    }
   ],
   "source": [
    "add_rank_to_conferences()"
   ]
  },
  {
   "cell_type": "code",
   "execution_count": 17,
   "metadata": {},
   "outputs": [
    {
     "name": "stdout",
     "output_type": "stream",
     "text": [
      "{'submission_id': {'value': 'ICML.cc/2023/Conference/-/Submission'}, 'meta_invitation_id': {'value': 'ICML.cc/2023/Conference/-/Edit'}, 'submission_name': {'value': 'Submission'}, 'submission_venue_id': {'value': 'ICML.cc/2023/Conference/Submission'}, 'withdrawn_venue_id': {'value': 'ICML.cc/2023/Conference/Withdrawn_Submission'}, 'desk_rejected_venue_id': {'value': 'ICML.cc/2023/Conference/Desk_Rejected_Submission'}, 'rejected_venue_id': {'value': 'ICML.cc/2023/Conference/Rejected_Submission'}, 'public_submissions': {'value': False}, 'public_withdrawn_submissions': {'value': False}, 'public_desk_rejected_submissions': {'value': False}, 'title': {'value': 'Fortieth International Conference on Machine Learning'}, 'subtitle': {'value': 'ICML 2023'}, 'website': {'value': 'https://icml.cc/Conferences/2023'}, 'contact': {'value': 'program-chairs@icml.cc'}, 'program_chairs_id': {'value': 'ICML.cc/2023/Conference/Program_Chairs'}, 'reviewers_id': {'value': 'ICML.cc/2023/Conference/Reviewers'}, 'reviewers_name': {'value': 'Reviewers'}, 'reviewers_anon_name': {'value': 'Reviewer_'}, 'reviewers_submitted_name': {'value': 'Submitted'}, 'reviewers_custom_max_papers_id': {'value': 'ICML.cc/2023/Conference/Reviewers/-/Custom_Max_Papers'}, 'reviewers_affinity_score_id': {'value': 'ICML.cc/2023/Conference/Reviewers/-/Affinity_Score'}, 'reviewers_conflict_id': {'value': 'ICML.cc/2023/Conference/Reviewers/-/Conflict'}, 'reviewers_recruitment_id': {'value': 'ICML.cc/2023/Conference/Reviewers/-/Recruitment'}, 'authors_id': {'value': 'ICML.cc/2023/Conference/Authors'}, 'authors_accepted_id': {'value': 'ICML.cc/2023/Conference/Authors/Accepted'}, 'authors_name': {'value': 'Authors'}, 'withdrawn_submission_id': {'value': 'ICML.cc/2023/Conference/-/Withdrawn_Submission'}, 'withdraw_expiration_id': {'value': 'ICML.cc/2023/Conference/-/Withdraw_Expiration'}, 'withdraw_reversion_id': {'value': 'ICML.cc/2023/Conference/-/Withdrawal_Reversion'}, 'withdraw_committee': {'value': ['ICML.cc/2023/Conference/Program_Chairs', 'ICML.cc/2023/Conference/Submission{number}/Senior_Area_Chairs', 'ICML.cc/2023/Conference/Submission{number}/Area_Chairs', 'ICML.cc/2023/Conference/Submission{number}/Reviewers', 'ICML.cc/2023/Conference/Submission{number}/Authors']}, 'withdrawal_name': {'value': 'Withdrawal'}, 'desk_rejected_submission_id': {'value': 'ICML.cc/2023/Conference/-/Desk_Rejected_Submission'}, 'desk_reject_expiration_id': {'value': 'ICML.cc/2023/Conference/-/Desk_Reject_Expiration'}, 'desk_rejection_reversion_id': {'value': 'ICML.cc/2023/Conference/-/Desk_Rejection_Reversion'}, 'desk_reject_committee': {'value': ['ICML.cc/2023/Conference/Program_Chairs', 'ICML.cc/2023/Conference/Submission{number}/Senior_Area_Chairs', 'ICML.cc/2023/Conference/Submission{number}/Area_Chairs', 'ICML.cc/2023/Conference/Submission{number}/Reviewers', 'ICML.cc/2023/Conference/Submission{number}/Authors']}, 'desk_rejection_name': {'value': 'Desk_Rejection'}, 'area_chairs_id': {'value': 'ICML.cc/2023/Conference/Area_Chairs'}, 'area_chairs_custom_max_papers_id': {'value': 'ICML.cc/2023/Conference/Area_Chairs/-/Custom_Max_Papers'}, 'area_chairs_affinity_score_id': {'value': 'ICML.cc/2023/Conference/Area_Chairs/-/Affinity_Score'}, 'area_chairs_conflict_id': {'value': 'ICML.cc/2023/Conference/Area_Chairs/-/Conflict'}, 'area_chairs_recruitment_id': {'value': 'ICML.cc/2023/Conference/Area_Chairs/-/Recruitment'}, 'area_chairs_assignment_id': {'value': 'ICML.cc/2023/Conference/Area_Chairs/-/Assignment'}, 'senior_area_chairs_id': {'value': 'ICML.cc/2023/Conference/Senior_Area_Chairs'}, 'senior_area_chairs_assignment_id': {'value': 'ICML.cc/2023/Conference/Senior_Area_Chairs/-/Assignment'}, 'senior_area_chairs_name': {'value': 'Senior_Area_Chairs'}, 'bid_name': {'value': 'Bid'}, 'review_name': {'value': 'Official_Review'}, 'review_rating': {'value': 'rating'}, 'review_confidence': {'value': 'confidence'}, 'review_email_pcs': {'value': False}, 'meta_review_name': {'value': 'Meta_Review'}, 'decision_name': {'value': 'Decision'}, 'decision_email_authors': {'value': False}, 'submission_revision_accepted': {'value': True}, 'request_form_id': {'value': '5PKNEw8TeNM'}, 'comment_mandatory_readers': {'value': ['ICML.cc/2023/Conference/Program_Chairs', 'ICML.cc/2023/Conference/Submission{number}/Senior_Area_Chairs']}, 'comment_email_pcs': {'value': False}, 'submission_email_template': {'value': 'Your submission to {{Abbreviated_Venue_Name}} has been {{action}}.\\n\\nSubmission Number: {{note_number}} \\n\\nTitle: {{note_title}} {{note_abstract}} \\n\\nTo view your submission, click here: https://openreview.net/forum?id={{note_forum}}'}, 'submission_email_pcs': {'value': False}, 'pc_submission_revision_id': {'value': 'ICML.cc/2023/Conference/-/PC_Revision'}, 'reviewers_assignment_id': {'value': 'ICML.cc/2023/Conference/Reviewers/-/Assignment'}, 'reviewers_invite_assignment_id': {'value': 'ICML.cc/2023/Conference/Reviewers/-/Invite_Assignment'}, 'reviewers_proposed_assignment_id': {'value': 'ICML.cc/2023/Conference/Reviewers/-/Proposed_Assignment'}, 'enable_reviewers_reassignment': {'value': True}, 'area_chairs_name': {'value': 'Area_Chairs'}, 'meta_review_recommendation': {'value': 'recommendation'}, 'area_chairs_anon_name': {'value': 'Area_Chair_'}, 'rebuttal_email_pcs': {'value': False}, 'withdrawal_email_pcs': {'value': False}, 'senior_area_chairs_affinity_score_id': {'value': 'ICML.cc/2023/Conference/Senior_Area_Chairs/-/Affinity_Score'}, 'decision_field_name': {'value': 'decision'}, 'decision_heading_map': {'value': {'ICML 2023 Poster': 'Accept (Poster)', 'ICML 2023 OralPoster': 'Accept (Oral & Poster)', 'Submitted to ICML 2023': 'Reject'}}, 'location': {'value': 'Hawaii, USA'}, 'instructions': {'value': ''}, 'start_date': {'value': 'Jul 23 2023'}, 'date': {'value': 'Submission Start: Jan 09 2023 UTC-0, Submission Deadline: Jan 26 2023 UTC-0'}, 'automatic_reviewer_assignment': {'value': True}}\n"
     ]
    },
    {
     "name": "stderr",
     "output_type": "stream",
     "text": [
      "Getting V2 Notes: 100%|█████████▉| 1826/1828 [00:00<00:00, 1852.43it/s]\n"
     ]
    }
   ],
   "source": [
    "from dotenv import load_dotenv\n",
    "import openreview\n",
    "import os\n",
    "load_dotenv(\"credentials.env\")\n",
    "client = openreview.api.OpenReviewClient(\n",
    "    baseurl = 'https://api2.openreview.net',\n",
    "    username = os.getenv(\"OR_USERNAME\"),\n",
    "    password = os.getenv(\"OR_PASSWORD\"),\n",
    ")\n",
    "venue = \"ICML.cc/2023/Conference\"\n",
    "venue_group = client.get_group(venue)\n",
    "if venue_group.content is not None:\n",
    "    print(venue_group.content)\n",
    "    submission_name = venue_group.content['submission_id']['value']\n",
    "    review_name = venue_group.content['review_name']['value']\n",
    "    all_subs = client.get_all_notes(invitation=f'{submission_name}')"
   ]
  },
  {
   "cell_type": "code",
   "execution_count": 22,
   "metadata": {},
   "outputs": [
    {
     "data": {
      "text/plain": [
       "Note(id = 'zzPMd0Ue4i',number = 4787,cdate = 1674747836694,pdate = 1682373314831,odate = 1686841478827,mdate = 1686841478841,tcdate = 1674747836694,tmdate = 1686841478841,ddate = None,content = {'title': {'value': 'Differentially Private Sharpness-Aware Training'}, 'authors': {'value': ['Jinseong Park', 'Hoki Kim', 'Yujin Choi', 'Jaewook Lee']}, 'authorids': {'value': ['~Jinseong_Park1', '~Hoki_Kim1', '~Yujin_Choi1', '~Jaewook_Lee1']}, 'abstract': {'value': 'Training deep learning models with differential privacy (DP) results in a degradation of performance. The training dynamics of models with DP show a significant difference from standard training, whereas understanding the geometric properties of private learning remains largely unexplored. In this paper, we investigate sharpness, a key factor in achieving better generalization, in private learning. We show that flat minima can help reduce the negative effects of per-example gradient clipping and the addition of Gaussian noise. We then verify the effectiveness of Sharpness-Aware Minimization (SAM) for seeking flat minima in private learning. However, we also discover that SAM is detrimental to the privacy budget and computational time due to its two-step optimization. Thus, we propose a new sharpness-aware training method that mitigates the privacy-optimization trade-off. Our experimental results demonstrate that the proposed method improves the performance of deep learning models with DP from both scratch and fine-tuning. Code is available at https://github.com/jinseongP/DPSAT.'}, 'pdf': {'value': '/pdf/61d7fb616142ce7460fd3b70f2f5f155396adc9e.pdf'}, 'venue': {'value': 'ICML 2023 Poster'}, 'venueid': {'value': 'ICML.cc/2023/Conference'}, 'paperhash': {'value': 'park|differentially_private_sharpnessaware_training'}},forum = 'zzPMd0Ue4i',replyto = None,readers = ['everyone'],nonreaders = None,signatures = ['ICML.cc/2023/Conference/Submission4787/Authors'],writers = ['ICML.cc/2023/Conference', 'ICML.cc/2023/Conference/Submission4787/Authors'],details = None,invitations = ['ICML.cc/2023/Conference/-/Submission', 'ICML.cc/2023/Conference/-/Edit', 'ICML.cc/2023/Conference/Submission4787/-/Camera_Ready_Revision'],domain = 'ICML.cc/2023/Conference',license = None)"
      ]
     },
     "execution_count": 22,
     "metadata": {},
     "output_type": "execute_result"
    }
   ],
   "source": [
    "all_subs[0]"
   ]
  },
  {
   "cell_type": "code",
   "execution_count": 19,
   "metadata": {},
   "outputs": [],
   "source": [
    "from get_data_from_or import get_reviews"
   ]
  },
  {
   "cell_type": "code",
   "execution_count": 20,
   "metadata": {},
   "outputs": [
    {
     "ename": "TypeError",
     "evalue": "'NoneType' object is not subscriptable",
     "output_type": "error",
     "traceback": [
      "\u001b[0;31m---------------------------------------------------------------------------\u001b[0m",
      "\u001b[0;31mTypeError\u001b[0m                                 Traceback (most recent call last)",
      "Cell \u001b[0;32mIn[20], line 1\u001b[0m\n\u001b[0;32m----> 1\u001b[0m \u001b[43mget_reviews\u001b[49m\u001b[43m(\u001b[49m\u001b[43mall_subs\u001b[49m\u001b[43m[\u001b[49m\u001b[38;5;241;43m0\u001b[39;49m\u001b[43m]\u001b[49m\u001b[43m)\u001b[49m\n",
      "File \u001b[0;32m~/work/projects/conference-simulation/data/get_data_from_or.py:59\u001b[0m, in \u001b[0;36mget_reviews\u001b[0;34m(paper)\u001b[0m\n\u001b[1;32m     57\u001b[0m \u001b[38;5;28;01mdef\u001b[39;00m \u001b[38;5;21mget_reviews\u001b[39m(paper):\n\u001b[1;32m     58\u001b[0m     replies \u001b[38;5;241m=\u001b[39m []\n\u001b[0;32m---> 59\u001b[0m     \u001b[38;5;28;01mfor\u001b[39;00m reply \u001b[38;5;129;01min\u001b[39;00m \u001b[43mpaper\u001b[49m\u001b[38;5;241;43m.\u001b[39;49m\u001b[43mdetails\u001b[49m\u001b[43m[\u001b[49m\u001b[38;5;124;43m\"\u001b[39;49m\u001b[38;5;124;43mdirectReplies\u001b[39;49m\u001b[38;5;124;43m\"\u001b[39;49m\u001b[43m]\u001b[49m:\n\u001b[1;32m     60\u001b[0m         \u001b[38;5;28;01mif\u001b[39;00m reply[\u001b[38;5;124m\"\u001b[39m\u001b[38;5;124minvitation\u001b[39m\u001b[38;5;124m\"\u001b[39m]\u001b[38;5;241m.\u001b[39mendswith(\u001b[38;5;124m\"\u001b[39m\u001b[38;5;124mOfficial_Review\u001b[39m\u001b[38;5;124m\"\u001b[39m):\n\u001b[1;32m     61\u001b[0m             replies\u001b[38;5;241m.\u001b[39mappend(reply)\n",
      "\u001b[0;31mTypeError\u001b[0m: 'NoneType' object is not subscriptable"
     ]
    }
   ],
   "source": [
    "get_reviews(all_subs[0])"
   ]
  },
  {
   "cell_type": "code",
   "execution_count": 21,
   "metadata": {},
   "outputs": [],
   "source": [
    "for sub in all_subs:\n",
    "    if sub.details is not None:\n",
    "        print(sub.details)"
   ]
  },
  {
   "cell_type": "code",
   "execution_count": null,
   "metadata": {},
   "outputs": [],
   "source": []
  },
  {
   "cell_type": "code",
   "execution_count": null,
   "metadata": {},
   "outputs": [],
   "source": []
  }
 ],
 "metadata": {
  "kernelspec": {
   "display_name": "crawling_or_env",
   "language": "python",
   "name": "python3"
  },
  "language_info": {
   "codemirror_mode": {
    "name": "ipython",
    "version": 3
   },
   "file_extension": ".py",
   "mimetype": "text/x-python",
   "name": "python",
   "nbconvert_exporter": "python",
   "pygments_lexer": "ipython3",
   "version": "3.11.1"
  }
 },
 "nbformat": 4,
 "nbformat_minor": 2
}
