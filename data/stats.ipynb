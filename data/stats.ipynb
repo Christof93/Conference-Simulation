{
 "cells": [
  {
   "cell_type": "code",
   "execution_count": 22,
   "metadata": {},
   "outputs": [],
   "source": [
    "import pickle\n",
    "import json\n",
    "from collections import defaultdict"
   ]
  },
  {
   "cell_type": "code",
   "execution_count": 23,
   "metadata": {},
   "outputs": [],
   "source": [
    "with open('confs_by_year.pickle', 'rb') as f:\n",
    "    confs_by_year = pickle.load(f)"
   ]
  },
  {
   "cell_type": "code",
   "execution_count": 3,
   "metadata": {},
   "outputs": [
    {
     "name": "stdout",
     "output_type": "stream",
     "text": [
      "ICLR.cc [2018, 2019, 2020, 2021, 2022, 2023]\n",
      "ICML.cc [2019, 2020, 2021]\n",
      "eswc-conferences.org [2019, 2021]\n",
      "MIDL.io [2022]\n",
      "roboticsfoundation.org [2020, 2023]\n",
      "vivoconference.org [2019]\n",
      "MICCAI.org [2019, 2021]\n",
      "NeurIPS.cc [2019, 2020, 2021, 2022]\n",
      "aclweb.org [2020, 2022]\n",
      "humanrobotinteraction.org [2022]\n",
      "ijcai.org [2021]\n",
      "kg-construct.github.io [2022]\n",
      "GeoMedIA [2022]\n",
      "auai.org [2022]\n",
      "ACM.org [2020, 2021, 2022, 2023]\n",
      "AKBC.ws [2019, 2020, 2021]\n",
      "icaps-conference.org [2019, 2020, 2021, 2022, 2023]\n",
      "thecvf.com [2020, 2022]\n",
      "graphicsinterface.org [2020, 2021, 2022]\n",
      "sigmobile.org [2020]\n",
      "ECMLPKDD.org [2020]\n",
      "tinyml.org [2021]\n",
      "ML_Reproducibility_Challenge [2020, 2021]\n",
      "robot-learning.org [2021, 2022, 2023]\n",
      "ecmlpkdd.org [2021]\n",
      "cclear.cc [2022]\n",
      "uoft.ai [2021]\n",
      "AAAI.org [2022, 2023]\n",
      "WBIR.info [2022]\n",
      "automl.cc [2022, 2023]\n",
      "iscaconf.org [2022]\n",
      "logconference.io [2022]\n",
      "JSYS [2021, 2022, 2023]\n",
      "IEEE.org [2022]\n",
      "Interspeech.org [2023]\n",
      "NoDaLiDa [2023]\n",
      "RBCDSAI.iitm.ac.in [2023]\n"
     ]
    }
   ],
   "source": [
    "for conf in confs_by_year:\n",
    "    print(conf, sorted([int(y) for y in confs_by_year[conf].keys() if y is not None]))"
   ]
  },
  {
   "cell_type": "code",
   "execution_count": 8,
   "metadata": {},
   "outputs": [],
   "source": [
    "years_and_confs = defaultdict(dict)\n",
    "for conf in confs_by_year:\n",
    "    for year in confs_by_year[conf]:\n",
    "        years_and_confs[year][conf] = confs_by_year[conf][year]"
   ]
  },
  {
   "cell_type": "code",
   "execution_count": 19,
   "metadata": {},
   "outputs": [],
   "source": [
    "for year in years_and_confs:\n",
    "    for conf in years_and_confs[year]:\n",
    "        for paper in years_and_confs[year][conf]:\n",
    "            paper[\"id\"] = paper[\"reviews\"][0][\"replyto\"]\n",
    "\n"
   ]
  },
  {
   "cell_type": "code",
   "execution_count": 24,
   "metadata": {},
   "outputs": [],
   "source": [
    "with open('papers.pickle', 'rb') as f:\n",
    "    papers_by_conf = pickle.load(f)"
   ]
  },
  {
   "cell_type": "code",
   "execution_count": 25,
   "metadata": {},
   "outputs": [],
   "source": [
    "num_papers = 0\n",
    "papers = {}\n",
    "for conf in papers_by_conf:\n",
    "    for paper_id in papers_by_conf[conf]:\n",
    "        num_papers+=1\n",
    "        papers[paper_id]=papers_by_conf[conf][paper_id]\n",
    "assert num_papers==len(papers)"
   ]
  },
  {
   "cell_type": "code",
   "execution_count": 26,
   "metadata": {},
   "outputs": [],
   "source": [
    "authors = defaultdict(list)\n",
    "for paper in papers:\n",
    "    for author_id, author in zip(papers[paper].content[\"authorids\"], papers[paper].content[\"authors\"]):\n",
    "        authors[f'{author_id}|{author}'].append(papers[paper].id)\n"
   ]
  },
  {
   "cell_type": "code",
   "execution_count": 27,
   "metadata": {},
   "outputs": [
    {
     "data": {
      "text/plain": [
       "70400"
      ]
     },
     "execution_count": 27,
     "metadata": {},
     "output_type": "execute_result"
    }
   ],
   "source": [
    "len(authors)"
   ]
  },
  {
   "cell_type": "code",
   "execution_count": 6,
   "metadata": {},
   "outputs": [],
   "source": [
    "ranked_authors = sorted(authors.items(), key = lambda x: len(x[1]), reverse = True)\n"
   ]
  },
  {
   "cell_type": "code",
   "execution_count": 8,
   "metadata": {},
   "outputs": [
    {
     "name": "stdout",
     "output_type": "stream",
     "text": [
      "~Sergey_Levine1|Sergey Levine 194\n",
      "~Chelsea_Finn1|Chelsea Finn 120\n",
      "~Pieter_Abbeel2|Pieter Abbeel 100\n",
      "~Zhangyang_Wang1|Zhangyang Wang 91\n",
      "~Yoshua_Bengio1|Yoshua Bengio 87\n"
     ]
    }
   ],
   "source": [
    "for author, paper_ids in ranked_authors[:5]:\n",
    "    print(author, len(paper_ids))"
   ]
  },
  {
   "cell_type": "code",
   "execution_count": 104,
   "metadata": {},
   "outputs": [],
   "source": [
    "def get_confs_per_paper(author):\n",
    "    paper_ids = authors[author]\n",
    "    confs_by_papertitle_of_author = defaultdict(list)\n",
    "\n",
    "    for paper_id in paper_ids:\n",
    "        confs_by_papertitle_of_author[papers[paper_id].content[\"title\"]].append(papers[paper_id].invitation)\n",
    "    return confs_by_papertitle_of_author\n",
    "\n"
   ]
  },
  {
   "cell_type": "code",
   "execution_count": 105,
   "metadata": {},
   "outputs": [
    {
     "name": "stdout",
     "output_type": "stream",
     "text": [
      "~Sergey_Levine1|Sergey Levine\n",
      "Which Mutual-Information Representation Learning Objectives are Sufficient for Control?\n",
      "3 ['ICLR.cc/2021/Conference/-/Blind_Submission', 'NeurIPS.cc/2021/Conference/-/Blind_Submission', 'NeurIPS.cc/2021/Conference/-/Blind_Submission']\n",
      "Replacing Rewards with Examples: Example-Based Policy Search via Recursive Classification\n",
      "2 ['NeurIPS.cc/2021/Conference/-/Blind_Submission', 'NeurIPS.cc/2021/Conference/-/Blind_Submission']\n",
      "~Chelsea_Finn1|Chelsea Finn\n",
      "~Pieter_Abbeel2|Pieter Abbeel\n",
      "~Zhangyang_Wang1|Zhangyang Wang\n",
      "Stronger NAS with Weaker Predictors\n",
      "2 ['NeurIPS.cc/2021/Conference/-/Blind_Submission', 'NeurIPS.cc/2021/Conference/-/Blind_Submission']\n",
      "~Yoshua_Bengio1|Yoshua Bengio\n",
      "Gradient Starvation: A Learning Proclivity in Neural Networks\n",
      "2 ['NeurIPS.cc/2021/Conference/-/Blind_Submission', 'NeurIPS.cc/2021/Conference/-/Blind_Submission']\n",
      "~Bernhard_Schölkopf1|Bernhard Schölkopf\n",
      "~Joshua_B._Tenenbaum1|Joshua B. Tenenbaum\n",
      "Improving Coherence and Consistency in Neural Sequence Models with Dual-System, Neuro-Symbolic Reasoning\n",
      "2 ['NeurIPS.cc/2021/Conference/-/Blind_Submission', 'NeurIPS.cc/2021/Conference/-/Blind_Submission']\n",
      "Grammar-Based Grounded Lexicon Learning\n",
      "2 ['NeurIPS.cc/2021/Conference/-/Blind_Submission', 'NeurIPS.cc/2021/Conference/-/Blind_Submission']\n",
      "Anonymous|Anonymous\n",
      "~Stefano_Ermon1|Stefano Ermon\n",
      "Improving Compositionality of Neural Networks by Decoding Representations to Inputs\n",
      "2 ['NeurIPS.cc/2021/Conference/-/Blind_Submission', 'NeurIPS.cc/2021/Conference/-/Blind_Submission']\n",
      "Reliable Decisions with Threshold Calibration\n",
      "2 ['NeurIPS.cc/2021/Conference/-/Blind_Submission', 'NeurIPS.cc/2021/Conference/-/Blind_Submission']\n",
      "~Tom_Goldstein1|Tom Goldstein\n",
      "GradInit: Learning to Initialize Neural Networks for Stable and Efficient Training\n",
      "2 ['NeurIPS.cc/2021/Conference/-/Blind_Submission', 'NeurIPS.cc/2021/Conference/-/Blind_Submission']\n",
      "~Sung_Ju_Hwang1|Sung Ju Hwang\n",
      "Edge Representation Learning with Hypergraphs\n",
      "2 ['NeurIPS.cc/2021/Conference/-/Blind_Submission', 'NeurIPS.cc/2021/Conference/-/Blind_Submission']\n",
      "Hit and Lead Discovery with Explorative RL and Fragment-based Molecule Generation\n",
      "2 ['NeurIPS.cc/2021/Conference/-/Blind_Submission', 'NeurIPS.cc/2021/Conference/-/Blind_Submission']\n",
      "svlevine@eecs.berkeley.edu|Sergey Levine\n",
      "~Tongliang_Liu1|Tongliang Liu\n",
      "~J_Zico_Kolter1|J Zico Kolter\n",
      "~Micah_Goldblum1|Micah Goldblum\n",
      "~Bo_Han1|Bo Han\n",
      "~Jianye_HAO1|Jianye HAO\n",
      "~Tie-Yan_Liu1|Tie-Yan Liu\n",
      "Distributional Reinforcement Learning for Multi-Dimensional Reward Functions\n",
      "2 ['NeurIPS.cc/2021/Conference/-/Blind_Submission', 'NeurIPS.cc/2021/Conference/-/Blind_Submission']\n",
      "~Dacheng_Tao1|Dacheng Tao\n",
      "ViTAE: Vision Transformer Advanced by Exploring Intrinsic Inductive Bias\n",
      "2 ['NeurIPS.cc/2021/Conference/-/Blind_Submission', 'NeurIPS.cc/2021/Conference/-/Blind_Submission']\n",
      "~Jinwoo_Shin1|Jinwoo Shin\n",
      "Scaling Neural Tangent Kernels via Sketching and Random Features\n",
      "2 ['NeurIPS.cc/2021/Conference/-/Blind_Submission', 'NeurIPS.cc/2021/Conference/-/Blind_Submission']\n",
      "~Junchi_Yan2|Junchi Yan\n",
      "~Andreas_Krause1|Andreas Krause\n",
      "Learning Graph Models for Retrosynthesis Prediction\n",
      "2 ['NeurIPS.cc/2021/Conference/-/Blind_Submission', 'NeurIPS.cc/2021/Conference/-/Blind_Submission']\n",
      "~Tianlong_Chen1|Tianlong Chen\n",
      "~Pin-Yu_Chen1|Pin-Yu Chen\n",
      "~Jun_Zhu2|Jun Zhu\n",
      "~Mihaela_van_der_Schaar2|Mihaela van der Schaar\n",
      "Integrating Expert ODEs into Neural ODEs: Pharmacology and Disease Progression\n",
      "2 ['NeurIPS.cc/2021/Conference/-/Blind_Submission', 'NeurIPS.cc/2021/Conference/-/Blind_Submission']\n",
      "~Stephan_Günnemann1|Stephan Günnemann\n",
      "~Kun_Zhang1|Kun Zhang\n",
      "~Quanquan_Gu1|Quanquan Gu\n",
      "Provably Efficient Reinforcement Learning with Linear Function Approximation under Adaptivity Constraints\n",
      "2 ['NeurIPS.cc/2021/Conference/-/Blind_Submission', 'NeurIPS.cc/2021/Conference/-/Blind_Submission']\n",
      "Reward-Free Model-Based Reinforcement Learning with Linear Function Approximation\n",
      "2 ['NeurIPS.cc/2021/Conference/-/Blind_Submission', 'NeurIPS.cc/2021/Conference/-/Blind_Submission']\n",
      "~Cho-Jui_Hsieh1|Cho-Jui Hsieh\n",
      "Fast Certified Robust Training with Short Warmup\n",
      "3 ['ICML.cc/2021/Workshop/AML/-/Blind_Submission', 'NeurIPS.cc/2021/Conference/-/Blind_Submission', 'NeurIPS.cc/2021/Conference/-/Blind_Submission']\n",
      "DynamicViT: Efficient Vision Transformers with Dynamic Token Sparsification\n",
      "2 ['NeurIPS.cc/2021/Conference/-/Blind_Submission', 'NeurIPS.cc/2021/Conference/-/Blind_Submission']\n",
      "Learnable Fourier Features for Multi-dimensional Spatial Positional Encoding\n",
      "2 ['NeurIPS.cc/2021/Conference/-/Blind_Submission', 'NeurIPS.cc/2021/Conference/-/Blind_Submission']\n",
      "~Jiajun_Wu1|Jiajun Wu\n",
      "Grammar-Based Grounded Lexicon Learning\n",
      "2 ['NeurIPS.cc/2021/Conference/-/Blind_Submission', 'NeurIPS.cc/2021/Conference/-/Blind_Submission']\n",
      "~Aaron_Courville3|Aaron Courville\n",
      "Gradient Starvation: A Learning Proclivity in Neural Networks\n",
      "2 ['NeurIPS.cc/2021/Conference/-/Blind_Submission', 'NeurIPS.cc/2021/Conference/-/Blind_Submission']\n",
      "~Philip_Torr1|Philip Torr\n",
      "FACMAC: Factored Multi-Agent Centralised Policy Gradients\n",
      "2 ['NeurIPS.cc/2021/Conference/-/Blind_Submission', 'NeurIPS.cc/2021/Conference/-/Blind_Submission']\n",
      "~Bo_Li19|Bo Li\n",
      "~Yisen_Wang1|Yisen Wang\n",
      "Clustering Effect of Adversarial Robust Models\n",
      "2 ['NeurIPS.cc/2021/Conference/-/Blind_Submission', 'NeurIPS.cc/2021/Conference/-/Blind_Submission']\n",
      "~Frank_Hutter1|Frank Hutter\n",
      "~Aviral_Kumar2|Aviral Kumar\n",
      "~Jun_Wang2|Jun Wang\n",
      "~Chuang_Gan1|Chuang Gan\n",
      "~Caiming_Xiong1|Caiming Xiong\n",
      "Evaluating State-of-the-Art Classification Models Against Bayes Optimality\n",
      "2 ['NeurIPS.cc/2021/Conference/-/Blind_Submission', 'NeurIPS.cc/2021/Conference/-/Blind_Submission']\n",
      "~Jakob_Nicolaus_Foerster1|Jakob Nicolaus Foerster\n",
      "~Ruslan_Salakhutdinov1|Ruslan Salakhutdinov\n",
      "Replacing Rewards with Examples: Example-Based Policy Search via Recursive Classification\n",
      "2 ['NeurIPS.cc/2021/Conference/-/Blind_Submission', 'NeurIPS.cc/2021/Conference/-/Blind_Submission']\n",
      "~Anima_Anandkumar1|Anima Anandkumar\n",
      "Adversarially Robust 3D Point Cloud Recognition Using Self-Supervisions\n",
      "2 ['NeurIPS.cc/2021/Conference/-/Blind_Submission', 'NeurIPS.cc/2021/Conference/-/Blind_Submission']\n",
      "~Jian_Tang1|Jian Tang\n",
      "~Xiaolong_Wang3|Xiaolong Wang\n",
      "Multi-Person 3D Motion Prediction with Multi-Range Transformers\n",
      "2 ['NeurIPS.cc/2021/Conference/-/Blind_Submission', 'NeurIPS.cc/2021/Conference/-/Blind_Submission']\n",
      "~Ping_Li3|Ping Li\n",
      "~Stefan_Bauer1|Stefan Bauer\n",
      "~Yarin_Gal1|Yarin Gal\n",
      "~Tengyu_Ma1|Tengyu Ma\n",
      "~Pietro_Lio1|Pietro Lio\n"
     ]
    }
   ],
   "source": [
    "\n",
    "for author, paper_ids in ranked_authors[:50]:\n",
    "    print(author)\n",
    "    confs_per_paper = get_confs_per_paper(author)\n",
    "    for author, confs in sorted(confs_per_paper.items(), key=lambda x:len(x[1]), reverse=True):\n",
    "        if len(set(confs))<len(confs):\n",
    "            print(author)\n",
    "            print(len(confs), confs)\n"
   ]
  },
  {
   "cell_type": "code",
   "execution_count": null,
   "metadata": {},
   "outputs": [],
   "source": []
  }
 ],
 "metadata": {
  "kernelspec": {
   "display_name": "crawling_or_env",
   "language": "python",
   "name": "python3"
  },
  "language_info": {
   "codemirror_mode": {
    "name": "ipython",
    "version": 3
   },
   "file_extension": ".py",
   "mimetype": "text/x-python",
   "name": "python",
   "nbconvert_exporter": "python",
   "pygments_lexer": "ipython3",
   "version": "3.11.1"
  }
 },
 "nbformat": 4,
 "nbformat_minor": 2
}
